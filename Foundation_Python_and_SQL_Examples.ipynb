{
  "nbformat": 4,
  "nbformat_minor": 0,
  "metadata": {
    "colab": {
      "provenance": [],
      "collapsed_sections": [],
      "include_colab_link": true
    },
    "kernelspec": {
      "name": "python3",
      "display_name": "Python 3"
    },
    "language_info": {
      "name": "python"
    }
  },
  "cells": [
    {
      "cell_type": "markdown",
      "metadata": {
        "id": "view-in-github",
        "colab_type": "text"
      },
      "source": [
        "<a href=\"https://colab.research.google.com/github/lynsaydunne/30-Days-Of-Python/blob/master/Foundation_Python_and_SQL_Examples.ipynb\" target=\"_parent\"><img src=\"https://colab.research.google.com/assets/colab-badge.svg\" alt=\"Open In Colab\"/></a>"
      ]
    },
    {
      "cell_type": "markdown",
      "source": [
        "# Foundation Python and SQL Examples\n",
        "### *READ THIS FIRST*\n",
        "\n",
        "This document is a **Jupyter Notebook**, a type of document that is typically used to share Python code (though we'll be using it for SQL as well). It is made up of individual boxes, or **cells**, that can contain either text or code.\n",
        "\n",
        "If you want to try out any of your own code inside this document, make a copy of the document in your own Google Drive so that you can edit it. Either use File > Save a Copy, or the button just below File / Edit / View / Insert that says Copy to Drive.\n",
        "\n",
        "If you want to try out any of your own SQL code specifically, you should first run the **Setup** cell below by clicking on the small round **Play** button to the left of the word Setup. Please be patient - it might take up to a minute."
      ],
      "metadata": {
        "id": "ITWsQGxLwa16"
      }
    },
    {
      "cell_type": "code",
      "source": [
        "#@title Setup { display-mode: \"form\" }\n",
        "#@markdown Run this cell to prepare MySQL and all the required databases. Rerun the cell whenever you start a new session, or if you think your database might have shut down. **Do not edit its contents.**\n",
        "#\n",
        "#@markdown *If any errors occur upon running this cell, please ask for help.*\n",
        "!printf \"Installing MySQL server... \"; apt-get install mysql-server > /dev/null && echo -e \"success\" || echo \"failure\"\n",
        "!printf \"Starting MySQL server... \"; service mysql start > /dev/null && echo \"success\" || echo \"failure\"\n",
        "!printf \"Creating Bakery and Bank DBs... \" ; printf \"DROP DATABASE IF EXISTS example; DROP DATABASE IF EXISTS Bakery; DROP DATABASE IF EXISTS bank; CREATE DATABASE example; CREATE DATABASE Bakery; USE Bakery; CREATE TABLE Sweet (id INT NOT NULL, item_name VARCHAR(50) NOT NULL, price FLOAT(2)); CREATE TABLE Savoury (id INT NOT NULL, item_name VARCHAR(50) NOT NULL, price FLOAT(2), main_ingredient VARCHAR(50)); INSERT INTO Sweet (id, item_name, price) VALUES (1, 'doughnut', 0.50), (2, 'croissant', 0.75), (3, 'painauchocolat', 0.55), (4, 'cinnamon twirl', 0.45), (5, 'cannoli', 0.88), (6, 'apple tart', 1.12); INSERT INTO Savoury (id, item_name, price, main_ingredient) VALUES (1, 'meat pie', 1.25, 'pork'), (2, 'sausage roll', 1.00, null), (3, 'pasty', 2.45, 'beef'); CREATE DATABASE bank; USE bank; CREATE TABLE accounts (account_number int(11) DEFAULT NULL, account_holder_name varchar(50) DEFAULT NULL, account_holder_surname varchar(50) DEFAULT NULL, balance float DEFAULT NULL, overdraft_allowed tinyint(1) DEFAULT NULL); INSERT INTO accounts (account_number, account_holder_name, account_holder_surname, balance, overdraft_allowed) VALUES (111112, 'Julie', 'Smith', 150, true), (111113, 'James', 'Andrews', 20, false), (111114, 'Jack', 'Oakes', -70, true), (111115, 'Jasper', 'Wolf', 200, true);\" > create_dbs.sql\n",
        "!mysql -u root < create_dbs.sql && echo \"success\" || echo \"failure\"\n",
        "!printf \"Installing MySQL client... \"; pip install mysqlclient >> /dev/null && echo \"success\" || echo \"failure\"\n",
        "!printf \"Attempting to create database connection for root user... \"\n",
        "import IPython, sqlalchemy, time; sqlalchemy.create_engine('mysql://root@localhost/')\n",
        "%reload_ext sql\n",
        "%sql mysql://root@localhost/\n",
        "%sql SELECT CASE WHEN (SELECT SUM(TABLE_ROWS) FROM INFORMATION_SCHEMA.TABLES WHERE TABLE_SCHEMA IN ('Bakery', 'bank')) = 13 THEN 'Success' ELSE 'Failure' END AS '';"
      ],
      "metadata": {
        "id": "3JFwhy8555dN",
        "colab": {
          "base_uri": "https://localhost:8080/",
          "height": 149
        },
        "outputId": "60101064-054b-4dbc-9f7a-b85f8bc4b11d"
      },
      "execution_count": 1,
      "outputs": [
        {
          "output_type": "stream",
          "name": "stdout",
          "text": [
            "Installing MySQL server... success\n",
            "Starting MySQL server... success\n",
            "Creating Bakery and Bank DBs... success\n",
            "Installing MySQL client... success\n",
            "Attempting to create database connection for root user...  * mysql://root@localhost/\n",
            "1 rows affected.\n"
          ]
        },
        {
          "output_type": "execute_result",
          "data": {
            "text/plain": [
              "[('Success',)]"
            ],
            "text/html": [
              "<table>\n",
              "    <thead>\n",
              "        <tr>\n",
              "            <th></th>\n",
              "        </tr>\n",
              "    </thead>\n",
              "    <tbody>\n",
              "        <tr>\n",
              "            <td>Success</td>\n",
              "        </tr>\n",
              "    </tbody>\n",
              "</table>"
            ]
          },
          "metadata": {},
          "execution_count": 1
        }
      ]
    },
    {
      "cell_type": "markdown",
      "source": [
        "# Python"
      ],
      "metadata": {
        "id": "YoP_XuBhQmFP"
      }
    },
    {
      "cell_type": "markdown",
      "source": [
        "### Data types"
      ],
      "metadata": {
        "id": "8MgW3SHDQ589"
      }
    },
    {
      "cell_type": "markdown",
      "source": [
        "In order to handle the data floating around in programs sensibly, Python needs to know what kind of data it is dealing with. It uses a classification system called _typing_, which comes up in lots of programming languages in slightly different ways.\n",
        "\n",
        "---\n",
        "\n",
        "**Analogy**: imagine you are in a dark room and you have a spherical object in your hand, but you don't know if it's an orange or a cricket ball. You need some extra information before you can tell whether you should try to eat it or throw it. Python is the same - it might have a small set of bytes in its memory, but it needs to know whether it is numeric data, text data or something else before it tries to (for example) square it or capitalize it.\n",
        "\n",
        "---\n",
        "\n",
        "**Basic Python data types we studied:**\n",
        "\n",
        "- string\n",
        "- int\n",
        "- float\n",
        "- bool\n",
        "\n",
        "None of these can be edited directly. If we want to change a single letter in a string, for example, we have to create a new one with the altered letter and throw out the old one. The technical term for this is that they are _immutable_ (it is not possible to _mutate_ or change them).\n",
        "\n",
        "---\n",
        "\n",
        "**More complex collection data types we studied:**\n",
        "- list\n",
        "- tuple\n",
        "- set\n",
        "- dict\n",
        "\n",
        "All of these except for tuples can be edited directly (or _\"in place\"_). They are called _mutable_ (it is possible to _mutate_ or change them)."
      ],
      "metadata": {
        "id": "_UbD5xzfRSkI"
      }
    },
    {
      "cell_type": "code",
      "source": [
        "print(type(\"Emily\"), \"Emily\")\n",
        "print(type(25),      25)\n",
        "print(type(178.5),   178.5)\n",
        "print(type(True),    True)\n",
        "\n",
        "print()\n",
        "\n",
        "print(type([\"Emma\", \"Leslie\", \"Zhaonan\"]), [\"Emma\", \"Leslie\", \"Zhaonan\"])\n",
        "print(type((\"Emma\", \"Leslie\", \"Zhaonan\")), (\"Emma\", \"Leslie\", \"Zhaonan\"))\n",
        "print(type({\"Emma\", \"Leslie\", \"Zhaonan\"}), {\"Emma\", \"Leslie\", \"Zhaonan\"})\n",
        "print(type({\"Emma\": 100, \"Leslie\": 100}),  {\"Emma\": 100, \"Leslie\": 100})"
      ],
      "metadata": {
        "colab": {
          "base_uri": "https://localhost:8080/"
        },
        "id": "eTWWxL44Tcbb",
        "outputId": "296024ac-66bc-4565-87e9-836ed7722b88"
      },
      "execution_count": null,
      "outputs": [
        {
          "output_type": "stream",
          "name": "stdout",
          "text": [
            "<class 'str'> Emily\n",
            "<class 'int'> 25\n",
            "<class 'float'> 178.5\n",
            "<class 'bool'> True\n",
            "\n",
            "<class 'list'> ['Emma', 'Leslie', 'Zhaonan']\n",
            "<class 'tuple'> ('Emma', 'Leslie', 'Zhaonan')\n",
            "<class 'set'> {'Emma', 'Leslie', 'Zhaonan'}\n",
            "<class 'dict'> {'Emma': 100, 'Leslie': 100}\n"
          ]
        }
      ]
    },
    {
      "cell_type": "code",
      "source": [
        "# Lists are mutable - it is possible to change an item in a list after creating it\n",
        "\n",
        "fruits = ['apple', 'banana', 'cherry']\n",
        "fruits[0] = 'apricot'\n",
        "print(fruits)"
      ],
      "metadata": {
        "colab": {
          "base_uri": "https://localhost:8080/"
        },
        "id": "LP6f0e_V1hG-",
        "outputId": "20f37761-66b7-450a-a8a6-28168deb3f0f"
      },
      "execution_count": null,
      "outputs": [
        {
          "output_type": "stream",
          "name": "stdout",
          "text": [
            "['apricot', 'banana', 'cherry']\n"
          ]
        }
      ]
    },
    {
      "cell_type": "code",
      "source": [
        "# Tuples are immutable - trying to change an item in a tuple after creating it will cause an error\n",
        "\n",
        "fruits = ('apple', 'banana', 'cherry')\n",
        "fruits[0] = 'apricot'\n",
        "print(fruits)"
      ],
      "metadata": {
        "colab": {
          "base_uri": "https://localhost:8080/",
          "height": 222
        },
        "id": "vLI5Vyc51ztW",
        "outputId": "a9b98f82-2f4b-45a3-b7c2-ae11d41d2312"
      },
      "execution_count": null,
      "outputs": [
        {
          "output_type": "error",
          "ename": "TypeError",
          "evalue": "ignored",
          "traceback": [
            "\u001b[0;31m---------------------------------------------------------------------------\u001b[0m",
            "\u001b[0;31mTypeError\u001b[0m                                 Traceback (most recent call last)",
            "\u001b[0;32m<ipython-input-2-ec7c4d11a01a>\u001b[0m in \u001b[0;36m<module>\u001b[0;34m()\u001b[0m\n\u001b[1;32m      2\u001b[0m \u001b[0;34m\u001b[0m\u001b[0m\n\u001b[1;32m      3\u001b[0m \u001b[0mfruits\u001b[0m \u001b[0;34m=\u001b[0m \u001b[0;34m(\u001b[0m\u001b[0;34m'apple'\u001b[0m\u001b[0;34m,\u001b[0m \u001b[0;34m'banana'\u001b[0m\u001b[0;34m,\u001b[0m \u001b[0;34m'cherry'\u001b[0m\u001b[0;34m)\u001b[0m\u001b[0;34m\u001b[0m\u001b[0;34m\u001b[0m\u001b[0m\n\u001b[0;32m----> 4\u001b[0;31m \u001b[0mfruits\u001b[0m\u001b[0;34m[\u001b[0m\u001b[0;36m0\u001b[0m\u001b[0;34m]\u001b[0m \u001b[0;34m=\u001b[0m \u001b[0;34m'apricot'\u001b[0m\u001b[0;34m\u001b[0m\u001b[0;34m\u001b[0m\u001b[0m\n\u001b[0m\u001b[1;32m      5\u001b[0m \u001b[0mprint\u001b[0m\u001b[0;34m(\u001b[0m\u001b[0mfruits\u001b[0m\u001b[0;34m)\u001b[0m\u001b[0;34m\u001b[0m\u001b[0;34m\u001b[0m\u001b[0m\n",
            "\u001b[0;31mTypeError\u001b[0m: 'tuple' object does not support item assignment"
          ]
        }
      ]
    },
    {
      "cell_type": "code",
      "source": [],
      "metadata": {
        "id": "AfcTv1vNDGYf"
      },
      "execution_count": null,
      "outputs": []
    },
    {
      "cell_type": "code",
      "source": [],
      "metadata": {
        "id": "9dz_ZiLXDGsp"
      },
      "execution_count": null,
      "outputs": []
    },
    {
      "cell_type": "markdown",
      "source": [],
      "metadata": {
        "id": "GpRw286sDH1h"
      }
    },
    {
      "cell_type": "markdown",
      "source": [],
      "metadata": {
        "id": "qqh2iYHaDINP"
      }
    },
    {
      "cell_type": "code",
      "source": [
        "# Strings are immutable - trying to change a character in a string after creating it will cause an error\n",
        "\n",
        "my_class = 'fullstack-1'\n",
        "my_class[-1] = '2'  # Try to change my_class to fullstack-2 by editing the string directly\n",
        "print(my_class)"
      ],
      "metadata": {
        "colab": {
          "base_uri": "https://localhost:8080/",
          "height": 222
        },
        "id": "9PgfaZVu2KSH",
        "outputId": "76ed0c11-051e-4fa0-f0c1-cd571be727c2"
      },
      "execution_count": null,
      "outputs": [
        {
          "output_type": "error",
          "ename": "TypeError",
          "evalue": "ignored",
          "traceback": [
            "\u001b[0;31m---------------------------------------------------------------------------\u001b[0m",
            "\u001b[0;31mTypeError\u001b[0m                                 Traceback (most recent call last)",
            "\u001b[0;32m<ipython-input-3-1d9c9464bedc>\u001b[0m in \u001b[0;36m<module>\u001b[0;34m()\u001b[0m\n\u001b[1;32m      2\u001b[0m \u001b[0;34m\u001b[0m\u001b[0m\n\u001b[1;32m      3\u001b[0m \u001b[0mmy_class\u001b[0m \u001b[0;34m=\u001b[0m \u001b[0;34m'fullstack-1'\u001b[0m\u001b[0;34m\u001b[0m\u001b[0;34m\u001b[0m\u001b[0m\n\u001b[0;32m----> 4\u001b[0;31m \u001b[0mmy_class\u001b[0m\u001b[0;34m[\u001b[0m\u001b[0;34m-\u001b[0m\u001b[0;36m1\u001b[0m\u001b[0;34m]\u001b[0m \u001b[0;34m=\u001b[0m \u001b[0;34m'2'\u001b[0m  \u001b[0;31m# Try to change my_class to fullstack-2 by editing the string directly\u001b[0m\u001b[0;34m\u001b[0m\u001b[0;34m\u001b[0m\u001b[0m\n\u001b[0m\u001b[1;32m      5\u001b[0m \u001b[0mprint\u001b[0m\u001b[0;34m(\u001b[0m\u001b[0mmy_class\u001b[0m\u001b[0;34m)\u001b[0m\u001b[0;34m\u001b[0m\u001b[0;34m\u001b[0m\u001b[0m\n",
            "\u001b[0;31mTypeError\u001b[0m: 'str' object does not support item assignment"
          ]
        }
      ]
    },
    {
      "cell_type": "code",
      "source": [
        "# Strings are immutable - to change a character in a string, you need to throw out the old string and make a new one\n",
        "\n",
        "my_class = 'fullstack-1'\n",
        "my_class = my_class.replace('1', '2')  # Try to change my_class to fullstack-2 by making a new string with '1' replaced with '2'\n",
        "print(my_class)"
      ],
      "metadata": {
        "colab": {
          "base_uri": "https://localhost:8080/"
        },
        "id": "l0C2YAWu2gXs",
        "outputId": "f7449346-7a4c-4ba0-9fae-eaec3fb47fde"
      },
      "execution_count": null,
      "outputs": [
        {
          "output_type": "stream",
          "name": "stdout",
          "text": [
            "fullstack-2\n"
          ]
        }
      ]
    },
    {
      "cell_type": "markdown",
      "source": [
        "### Variables"
      ],
      "metadata": {
        "id": "jBDlOIXfTAIr"
      }
    },
    {
      "cell_type": "markdown",
      "source": [],
      "metadata": {
        "id": "7zymPqRTTBil"
      }
    },
    {
      "cell_type": "markdown",
      "source": [
        "## Conditional statements"
      ],
      "metadata": {
        "id": "y5AvW6GcZnlv"
      }
    },
    {
      "cell_type": "markdown",
      "source": [],
      "metadata": {
        "id": "pRMnRbp-Z8jH"
      }
    },
    {
      "cell_type": "code",
      "source": [
        "# Using if statements\n",
        "\n",
        "print(\"Welcome to Canary Wharf!\")\n",
        "response = input(\"Do you already know your way to the conference? Enter Y for yes or N for no: \")\n",
        "\n",
        "if response == 'N':\n",
        "    print(\"Go through the barriers and proceed to one of the elevators on the left. Go to floor 13, and ask at the reception there for further directions.\")"
      ],
      "metadata": {
        "colab": {
          "base_uri": "https://localhost:8080/"
        },
        "id": "p8VK648K6600",
        "outputId": "3a6a648f-3356-415d-a34c-10dfc6210b41"
      },
      "execution_count": null,
      "outputs": [
        {
          "output_type": "stream",
          "name": "stdout",
          "text": [
            "Welcome to Canary Wharf!\n",
            "Do you already know your way to the conference? Enter Y for yes or N for no: N\n",
            "Go through the barriers and proceed to one of the elevators on the left. Go to floor 13, and ask at the reception there for further directions.\n"
          ]
        }
      ]
    },
    {
      "cell_type": "code",
      "source": [
        "# Using if/else statements\n",
        "\n",
        "print(\"Let's order a pizza!\")\n",
        "response = input(\"Should we get a garlic bread side with it? Enter Y for yes or N for no: \")\n",
        "\n",
        "if response == 'Y':\n",
        "    print(\"Great, the total bill will be £15.\")\n",
        "else:\n",
        "    print(\"Ok, the total bill will be £10.\")"
      ],
      "metadata": {
        "colab": {
          "base_uri": "https://localhost:8080/"
        },
        "id": "g-IvPp1B6IaE",
        "outputId": "f14cf497-c68c-4018-b1ba-dfa8a2ba85b3"
      },
      "execution_count": null,
      "outputs": [
        {
          "output_type": "stream",
          "name": "stdout",
          "text": [
            "Let's order a pizza!\n",
            "Should we get a garlic bread side with it? Enter Y for yes or N for no: N\n",
            "Ok, the total bill will be £10.\n"
          ]
        }
      ]
    },
    {
      "cell_type": "code",
      "source": [
        "# Using if/elif/else statements\n",
        "\n",
        "print(\"Let's buy a top!\")\n",
        "height = int(input(\"What is your height, to the nearest centimetre? \"))\n",
        "\n",
        "if height < 150:\n",
        "    print(\"You should buy the top in a size S\")\n",
        "elif height < 170:\n",
        "    print(\"You should buy the top in a size M\")\n",
        "else:\n",
        "    print(\"You should buy the top in a size L\")"
      ],
      "metadata": {
        "colab": {
          "base_uri": "https://localhost:8080/"
        },
        "id": "hRlfgzKj5d4e",
        "outputId": "66c9c4e7-b589-4873-e13b-c1a1f815f13a"
      },
      "execution_count": null,
      "outputs": [
        {
          "output_type": "stream",
          "name": "stdout",
          "text": [
            "Let's buy a top!\n",
            "What is your height, to the nearest centimetre? 178\n",
            "You should buy the top in a size L\n"
          ]
        }
      ]
    },
    {
      "cell_type": "code",
      "source": [
        "# Using multiple elif statements\n",
        "\n",
        "print(\"Let's cook some potato waffles!\")\n",
        "temperature = int(input(\"What temperature is the oven at, to the nearest degree Celsius? \"))\n",
        "\n",
        "if temperature > 220:\n",
        "    print(\"The oven is too hot\")\n",
        "elif temperature < 180:\n",
        "    print(\"The oven is not hot enough\")\n",
        "elif temperature == 200:\n",
        "    print(\"The oven temperature is just right\")\n",
        "else:\n",
        "    print(\"The oven temperature is close enough\")"
      ],
      "metadata": {
        "colab": {
          "base_uri": "https://localhost:8080/"
        },
        "id": "egwj5aez4s1x",
        "outputId": "543364cc-34ad-473b-cdea-f2f6f81fdcd6"
      },
      "execution_count": null,
      "outputs": [
        {
          "output_type": "stream",
          "name": "stdout",
          "text": [
            "Let's cook some potato waffles!\n",
            "What temperature is the oven at, to the nearest degree Celsius? 210\n",
            "The oven temperature is close enough\n"
          ]
        }
      ]
    },
    {
      "cell_type": "markdown",
      "source": [
        "### Loops"
      ],
      "metadata": {
        "id": "WDS7KfMORnnC"
      }
    },
    {
      "cell_type": "markdown",
      "source": [
        "There are two types of loop in Python:\n",
        "\n",
        "- `for` loops (more useful for looping through each item in a fixed list of items)\n",
        "- `while` loops (more useful for creating a flexible loop that has a clear ending condition but not necessarily an obvious final item)\n",
        "\n",
        "---"
      ],
      "metadata": {
        "id": "qylhfFqLRo71"
      }
    },
    {
      "cell_type": "markdown",
      "source": [
        "Some `for` loop examples:"
      ],
      "metadata": {
        "id": "hcocHdSi5BBQ"
      }
    },
    {
      "cell_type": "code",
      "source": [
        "print(\"My favourite fruits:\")\n",
        "\n",
        "for fruit in ['apple', 'banana', 'cherry']:\n",
        "    print(f\"- {fruit.capitalize()}\")"
      ],
      "metadata": {
        "colab": {
          "base_uri": "https://localhost:8080/"
        },
        "id": "_LDGkWPlYHBC",
        "outputId": "f9d3cf9e-68c2-4843-b6cd-108c8fbad558"
      },
      "execution_count": null,
      "outputs": [
        {
          "output_type": "stream",
          "name": "stdout",
          "text": [
            "My favourite fruits:\n",
            "- Apple\n",
            "- Banana\n",
            "- Cherry\n"
          ]
        }
      ]
    },
    {
      "cell_type": "code",
      "source": [
        "for number in range(4):\n",
        "    print((number + 1) * 2, end=', ')\n",
        "\n",
        "print(\"who do we appreciate? Python \\U0001F389\")"
      ],
      "metadata": {
        "colab": {
          "base_uri": "https://localhost:8080/"
        },
        "id": "_y0RdfvM5EGP",
        "outputId": "c6232d32-cfa7-43ca-aa26-3b336ea1834c"
      },
      "execution_count": null,
      "outputs": [
        {
          "output_type": "stream",
          "name": "stdout",
          "text": [
            "2, 4, 6, 8, who do we appreciate? Python 🎉\n"
          ]
        }
      ]
    },
    {
      "cell_type": "code",
      "source": [
        "words = ['foundation', 'Python', 'and', 'SQL', 'examples']\n",
        "word_lengths = []\n",
        "\n",
        "for word in words:\n",
        "    word_lengths.append(len(word))\n",
        "\n",
        "print(word_lengths)"
      ],
      "metadata": {
        "colab": {
          "base_uri": "https://localhost:8080/"
        },
        "id": "iLc-A9Ed56hd",
        "outputId": "92efb41b-5895-4d50-a190-ee6814cb1e60"
      },
      "execution_count": null,
      "outputs": [
        {
          "output_type": "stream",
          "name": "stdout",
          "text": [
            "[10, 6, 3, 3, 8]\n"
          ]
        }
      ]
    },
    {
      "cell_type": "markdown",
      "source": [
        "Some `while` loop examples:"
      ],
      "metadata": {
        "id": "sZSU1WlJ6ftB"
      }
    },
    {
      "cell_type": "code",
      "source": [
        "countdown = 3\n",
        "\n",
        "while countdown > 0:\n",
        "    print(countdown)\n",
        "    countdown = countdown - 1  # This incrementation step is really important!\n",
        "\n",
        "print(\"Let's go!\")"
      ],
      "metadata": {
        "colab": {
          "base_uri": "https://localhost:8080/"
        },
        "id": "aLK-u5foYbT9",
        "outputId": "8f56e688-7fe0-4f91-f48b-d3ab203fd56b"
      },
      "execution_count": null,
      "outputs": [
        {
          "output_type": "stream",
          "name": "stdout",
          "text": [
            "3\n",
            "2\n",
            "1\n",
            "Let's go!\n"
          ]
        }
      ]
    },
    {
      "cell_type": "markdown",
      "source": [
        "In the `while` loop example above, the `countdown` variable starts at 3, and the incrementation step is the only thing stopping it from staying at 3 indefinitely. Without this step, the loop would just keep running without any outside intervention, since `countdown > 0` would always be true. We would call this situation an _infinite loop_."
      ],
      "metadata": {
        "id": "rVT3f1VtZKEi"
      }
    },
    {
      "cell_type": "code",
      "source": [
        "import random\n",
        "\n",
        "compliments = ['You are good at Python', 'You are good at SQL', 'You are a hard worker', 'You are a bit of a legend']\n",
        "\n",
        "while input(\"Type Y to hear a compliment or anything else to exit: \").casefold() == 'y':  # Carry on until the user types something other than Y\n",
        "    print(random.choice(compliments))"
      ],
      "metadata": {
        "colab": {
          "base_uri": "https://localhost:8080/"
        },
        "id": "5D_r_Vo56msA",
        "outputId": "056bcae9-4403-4d4d-c461-32e7776a50be"
      },
      "execution_count": null,
      "outputs": [
        {
          "name": "stdout",
          "output_type": "stream",
          "text": [
            "Type Y to hear a compliment or anything else to exit: Y\n",
            "You are good at SQL\n",
            "Type Y to hear a compliment or anything else to exit: Y\n",
            "You are good at Python\n",
            "Type Y to hear a compliment or anything else to exit: Y\n",
            "You are a hard worker\n",
            "Type Y to hear a compliment or anything else to exit: N\n"
          ]
        }
      ]
    },
    {
      "cell_type": "code",
      "source": [
        "fruits = ['apple', 'banana', 'cherry']\n",
        "\n",
        "while True:  # Carry on until we break out of the loop manually - this is something you will see quite often\n",
        "    choice = input(\"Which is your favourite?\\n1. Apples\\n2. Bananas\\n3. Cherries\\nPlease type 1, 2 or 3: \")\n",
        "    if choice in ['1', '2', '3']:\n",
        "        choice_index = int(choice) - 1\n",
        "        print(f\"Nice, here is a {fruits[choice_index]} for you!\")\n",
        "        break  # Break out of the loop manually\n",
        "    else:\n",
        "        print(\"Sorry, that wasn't one of the available options! Let's try again.\")\n",
        "        continue"
      ],
      "metadata": {
        "colab": {
          "base_uri": "https://localhost:8080/"
        },
        "id": "647uXbXc7k-P",
        "outputId": "0ceac068-11bb-44fa-c592-05840a798ae6"
      },
      "execution_count": null,
      "outputs": [
        {
          "output_type": "stream",
          "name": "stdout",
          "text": [
            "Which is your favourite?\n",
            "1. Apples\n",
            "2. Bananas\n",
            "3. Cherries\n",
            "Please type 1, 2 or 3: 4\n",
            "Sorry, that wasn't one of the available options! Let's try again.\n",
            "Which is your favourite?\n",
            "1. Apples\n",
            "2. Bananas\n",
            "3. Cherries\n",
            "Please type 1, 2 or 3: 3\n",
            "Nice, here is a cherry for you!\n"
          ]
        }
      ]
    },
    {
      "cell_type": "markdown",
      "source": [
        "### Collection data types: strings, lists, dictionaries, tuples and sets"
      ],
      "metadata": {
        "id": "KTakC90pTIYd"
      }
    },
    {
      "cell_type": "markdown",
      "source": [
        "\n",
        "\n",
        "\n",
        "String/list slicing\n",
        "List comprehension"
      ],
      "metadata": {
        "id": "7VqPSjzDTMar"
      }
    },
    {
      "cell_type": "markdown",
      "source": [
        "### Built-ins"
      ],
      "metadata": {
        "id": "hqXc4KhMSBmU"
      }
    },
    {
      "cell_type": "markdown",
      "source": [
        "Some common built-in functions:\n",
        "- `print()` (output data to the user)\n",
        "- `input()` (get input data from the user)\n",
        "- `type()` (get the type of a piece of data)\n",
        "- `help()` (get some help on a particular object)\n",
        "\n",
        "Build-in functions which operate on collections (technical term in Python: _iterables_ - anything you can iterate through, or step through one-by-one)\n",
        "- `len()` (get the number of items in the collection)\n",
        "- `sum()` (get the sum of the item in the collection)\n",
        "- `max()` (get the maximum item in the collection)\n",
        "- `min()` (get the minimum item in the collection)\n",
        "- `sorted()` (get a sorted version of the collection)\n",
        "- `reversed()` (get an _iterator_ object that allows you to step through the collection backwards)\n",
        "\n",
        "Built-in functions for operations involving ASCII:\n",
        "- `ord()` (get the position of a specified character in the ASCII or Unicode character ordering tables)\n",
        "- `chr()` (get the character at a specified position in the ASCII or Unicode character ordering tables)\n",
        "\n",
        "Built-in methods common to `str`, `list` and `tuple` data types (ordered collections with duplicate entries possible):\n",
        "- `.count()` (get the number of occurences of a particular item in the collection)\n",
        "- `.index()` (get the position of a particular item in the collection)\n",
        "\n",
        "Built-in methods common to `list`, `set` and `dict` data types (mutable collections):\n",
        "- `.clear()` (empty the collection)\n",
        "- `.copy()` (get a copy of the collection)\n",
        "- `.pop()` (remove an item from the collection and return it to the programmer)\n",
        "\n",
        "---"
      ],
      "metadata": {
        "id": "fTSj5SZNSLWL"
      }
    },
    {
      "cell_type": "code",
      "source": [
        "print(\"Hello there\")"
      ],
      "metadata": {
        "colab": {
          "base_uri": "https://localhost:8080/"
        },
        "id": "aL367xXJA49K",
        "outputId": "5d030a91-cf5f-4ca4-8946-adf68d937d75"
      },
      "execution_count": null,
      "outputs": [
        {
          "output_type": "stream",
          "name": "stdout",
          "text": [
            "Hello there\n"
          ]
        }
      ]
    },
    {
      "cell_type": "code",
      "source": [
        "name = input(\"What is your name? \")\n",
        "print(f\"Hello, {name}!\")"
      ],
      "metadata": {
        "colab": {
          "base_uri": "https://localhost:8080/"
        },
        "id": "Zsg-dUCJA8If",
        "outputId": "dbea3acf-c185-47e7-f67d-515b53587832"
      },
      "execution_count": null,
      "outputs": [
        {
          "output_type": "stream",
          "name": "stdout",
          "text": [
            "What is your name? Emily\n",
            "Hello, Emily!\n"
          ]
        }
      ]
    },
    {
      "cell_type": "code",
      "source": [
        "print(type(\"She sells sea shells by the sea shore\"))\n",
        "print(type(12345))"
      ],
      "metadata": {
        "colab": {
          "base_uri": "https://localhost:8080/"
        },
        "id": "uezyAxDxBEB1",
        "outputId": "2753d92c-e3ba-4662-a576-d009d2d35f88"
      },
      "execution_count": null,
      "outputs": [
        {
          "output_type": "stream",
          "name": "stdout",
          "text": [
            "<class 'str'>\n",
            "<class 'int'>\n"
          ]
        }
      ]
    },
    {
      "cell_type": "code",
      "source": [
        "help(ord)\n",
        "help(chr)"
      ],
      "metadata": {
        "colab": {
          "base_uri": "https://localhost:8080/"
        },
        "id": "TVjPkj5qBQEP",
        "outputId": "a540500e-e2f0-4296-fb2f-9582381d4773"
      },
      "execution_count": null,
      "outputs": [
        {
          "output_type": "stream",
          "name": "stdout",
          "text": [
            "Help on built-in function ord in module builtins:\n",
            "\n",
            "ord(c, /)\n",
            "    Return the Unicode code point for a one-character string.\n",
            "\n",
            "Help on built-in function chr in module builtins:\n",
            "\n",
            "chr(i, /)\n",
            "    Return a Unicode string of one character with ordinal i; 0 <= i <= 0x10ffff.\n",
            "\n"
          ]
        }
      ]
    },
    {
      "cell_type": "code",
      "source": [
        "test_scores = [50, 100, 99, 55, 67, 88]\n",
        "\n",
        "print(f\"Number of test scores: {len(test_scores)}\")\n",
        "print(f\"Average of test scores: {sum(test_scores) / len(test_scores)}\")\n",
        "print(f\"Maximum test score: {max(test_scores)}\")\n",
        "print(f\"Minimum test score: {min(test_scores)}\")\n",
        "print(f\"Sorted test scores in ascending order: {sorted(test_scores)}\")\n",
        "print(f\"Reversed test scores: {list(reversed(test_scores))}\")\n",
        "print(f\"Sorted test scores in descending order: {list(reversed(sorted(test_scores)))}\")\n",
        "print(f\"Sorted test scores in descending order: {sorted(test_scores, reverse=True)} (alternative method)\")"
      ],
      "metadata": {
        "colab": {
          "base_uri": "https://localhost:8080/"
        },
        "id": "jOeOfAc-Bfg4",
        "outputId": "afcf7d16-e2ea-4d76-8ddf-1903ad716c3c"
      },
      "execution_count": null,
      "outputs": [
        {
          "output_type": "stream",
          "name": "stdout",
          "text": [
            "Number of test scores: 6\n",
            "Average of test scores: 76.5\n",
            "Maximum test score: 100\n",
            "Minimum test score: 50\n",
            "Sorted test scores in ascending order: [50, 55, 67, 88, 99, 100]\n",
            "Reversed test scores: [88, 67, 55, 99, 100, 50]\n",
            "Sorted test scores in descending order: [100, 99, 88, 67, 55, 50]\n",
            "Sorted test scores in descending order: [100, 99, 88, 67, 55, 50] (alternative method)\n"
          ]
        }
      ]
    },
    {
      "cell_type": "code",
      "source": [
        "print(ord('A'))\n",
        "print(ord('Z'))\n",
        "print(ord('a'))\n",
        "print(ord('z'))"
      ],
      "metadata": {
        "colab": {
          "base_uri": "https://localhost:8080/"
        },
        "id": "mOUWBiU8Cubq",
        "outputId": "d404fe32-d686-4159-b24c-b4f3a194ef40"
      },
      "execution_count": null,
      "outputs": [
        {
          "output_type": "stream",
          "name": "stdout",
          "text": [
            "65\n",
            "90\n",
            "97\n",
            "122\n"
          ]
        }
      ]
    },
    {
      "cell_type": "code",
      "source": [
        "print(chr(65))\n",
        "print(chr(90))\n",
        "print(chr(97))\n",
        "print(chr(122))"
      ],
      "metadata": {
        "colab": {
          "base_uri": "https://localhost:8080/"
        },
        "id": "Wk6eegc6C0K8",
        "outputId": "65925f45-d187-4de4-dbcb-e0727a99d12c"
      },
      "execution_count": null,
      "outputs": [
        {
          "output_type": "stream",
          "name": "stdout",
          "text": [
            "A\n",
            "Z\n",
            "a\n",
            "z\n"
          ]
        }
      ]
    },
    {
      "cell_type": "code",
      "source": [
        "# Example usage of ord and chr to get the next letter in the alphabet\n",
        "\n",
        "letter = input(\"Enter a lowercase letter: \")[0]\n",
        "\n",
        "if not letter.islower():\n",
        "    print(\"The character you entered was not a lowercase letter :(\")\n",
        "else:\n",
        "    index_in_alphabet = ord(letter) - ord('a')\n",
        "    next_index = (index_in_alphabet + 1) % 26  # The % 26 ensures that if the user types 'z', the program wraps back around to 'a' rather than overshooting the alphabet\n",
        "    next_letter = chr(next_index + ord('a'))\n",
        "    print(f\"The next letter in the alphabet is: {next_letter}\")"
      ],
      "metadata": {
        "colab": {
          "base_uri": "https://localhost:8080/"
        },
        "id": "DDZBtdli2k36",
        "outputId": "3658f66d-43f4-491f-e271-88f4cb137569"
      },
      "execution_count": null,
      "outputs": [
        {
          "output_type": "stream",
          "name": "stdout",
          "text": [
            "Enter a lowercase letter: b\n",
            "The next letter in the alphabet is: c\n"
          ]
        }
      ]
    },
    {
      "cell_type": "code",
      "source": [
        "import string\n",
        "from pprint import pprint\n",
        "\n",
        "sentence = \"the quick brown fox jumps over the lazy dog\"\n",
        "letter_occurrences = {}\n",
        "letter_positions = {}\n",
        "\n",
        "for letter in string.ascii_lowercase:\n",
        "    letter_occurrences[letter] = sentence.count(letter)\n",
        "    letter_positions[letter] = sentence.find(letter)\n",
        "\n",
        "print(\"Number of occurrences of each letter in the sentence:\")\n",
        "pprint(letter_occurrences)\n",
        "print(\"Position of first occurrence of each letter in the sentence:\")\n",
        "pprint(letter_positions)"
      ],
      "metadata": {
        "colab": {
          "base_uri": "https://localhost:8080/"
        },
        "id": "uoscd6og1S_m",
        "outputId": "d99d6e2f-1326-4548-9263-a21a43399aac"
      },
      "execution_count": null,
      "outputs": [
        {
          "output_type": "stream",
          "name": "stdout",
          "text": [
            "Number of occurrences of each letter in the sentence:\n",
            "{'a': 1,\n",
            " 'b': 1,\n",
            " 'c': 1,\n",
            " 'd': 1,\n",
            " 'e': 3,\n",
            " 'f': 1,\n",
            " 'g': 1,\n",
            " 'h': 2,\n",
            " 'i': 1,\n",
            " 'j': 1,\n",
            " 'k': 1,\n",
            " 'l': 1,\n",
            " 'm': 1,\n",
            " 'n': 1,\n",
            " 'o': 4,\n",
            " 'p': 1,\n",
            " 'q': 1,\n",
            " 'r': 2,\n",
            " 's': 1,\n",
            " 't': 2,\n",
            " 'u': 2,\n",
            " 'v': 1,\n",
            " 'w': 1,\n",
            " 'x': 1,\n",
            " 'y': 1,\n",
            " 'z': 1}\n",
            "Position of first occurrence of each letter in the sentence:\n",
            "{'a': 36,\n",
            " 'b': 10,\n",
            " 'c': 7,\n",
            " 'd': 40,\n",
            " 'e': 2,\n",
            " 'f': 16,\n",
            " 'g': 42,\n",
            " 'h': 1,\n",
            " 'i': 6,\n",
            " 'j': 20,\n",
            " 'k': 8,\n",
            " 'l': 35,\n",
            " 'm': 22,\n",
            " 'n': 14,\n",
            " 'o': 12,\n",
            " 'p': 23,\n",
            " 'q': 4,\n",
            " 'r': 11,\n",
            " 's': 24,\n",
            " 't': 0,\n",
            " 'u': 5,\n",
            " 'v': 27,\n",
            " 'w': 13,\n",
            " 'x': 18,\n",
            " 'y': 38,\n",
            " 'z': 37}\n"
          ]
        }
      ]
    },
    {
      "cell_type": "code",
      "source": [
        "import random\n",
        "\n",
        "winning_cards = ['A♠', 'K♥', 'Q♣', 'J♦']\n",
        "\n",
        "winning_cards_order = winning_cards.copy()\n",
        "random.shuffle(winning_cards_order)\n",
        "winning_cards.clear()\n",
        "\n",
        "print(f\"First winning card: {winning_cards_order.pop()}\")\n",
        "print(f\"Remaining cards: {winning_cards_order}\\n\")\n",
        "print(f\"Second winning card: {winning_cards_order.pop()}\")\n",
        "print(f\"Remaining cards: {winning_cards_order}\\n\")\n",
        "print(f\"Third winning card: {winning_cards_order.pop()}\")\n",
        "print(f\"Remaining cards: {winning_cards_order}\\n\")\n",
        "print(f\"Final winning card: {winning_cards_order.pop()}\")\n",
        "print(f\"Remaining cards: {winning_cards_order}\\n\")"
      ],
      "metadata": {
        "colab": {
          "base_uri": "https://localhost:8080/"
        },
        "id": "acNWnAPZ2lOl",
        "outputId": "d3c86bc8-cd27-47f9-cc05-c4888ec6a4fe"
      },
      "execution_count": null,
      "outputs": [
        {
          "output_type": "stream",
          "name": "stdout",
          "text": [
            "First winning card: K♥\n",
            "Remaining cards: ['A♠', 'J♦', 'Q♣']\n",
            "\n",
            "Second winning card: Q♣\n",
            "Remaining cards: ['A♠', 'J♦']\n",
            "\n",
            "Third winning card: J♦\n",
            "Remaining cards: ['A♠']\n",
            "\n",
            "Final winning card: A♠\n",
            "Remaining cards: []\n",
            "\n"
          ]
        }
      ]
    },
    {
      "cell_type": "markdown",
      "source": [
        "### Modules from the standard library"
      ],
      "metadata": {
        "id": "1ask0Z6oSZYy"
      }
    },
    {
      "cell_type": "markdown",
      "source": [
        "\n",
        "Python Modules (datetime)\n",
        "\n",
        "Python Library (random)"
      ],
      "metadata": {
        "id": "zRjlHTZ6SeCK"
      }
    },
    {
      "cell_type": "markdown",
      "source": [
        "### Function definition"
      ],
      "metadata": {
        "id": "Rk6arcQhRJOp"
      }
    },
    {
      "cell_type": "markdown",
      "source": [
        "Functions (defining our own)\n",
        "\n",
        "Parameters and arguments\n",
        "\n",
        "\\*args and \\**kwargs\n",
        "\n",
        "\n",
        "Returns"
      ],
      "metadata": {
        "id": "CFH_jnSXREgg"
      }
    },
    {
      "cell_type": "markdown",
      "source": [
        "### Files"
      ],
      "metadata": {
        "id": "59YI4SuyRPB_"
      }
    },
    {
      "cell_type": "markdown",
      "source": [
        "More complex file handling (multi-line file handling, seleting specific lines/words)\n",
        "\n",
        "\n",
        "Converting dictionaries into csv files"
      ],
      "metadata": {
        "id": "Ii78tg3QRllp"
      }
    },
    {
      "cell_type": "markdown",
      "source": [
        "### Requests"
      ],
      "metadata": {
        "id": "YEmG4qOvRuBp"
      }
    },
    {
      "cell_type": "markdown",
      "source": [
        "Calling APIs\n",
        "Using requests"
      ],
      "metadata": {
        "id": "eS-Yes4oRw8Y"
      }
    },
    {
      "cell_type": "markdown",
      "source": [
        "# SQL"
      ],
      "metadata": {
        "id": "PzuBQAryQukQ"
      }
    },
    {
      "cell_type": "markdown",
      "source": [],
      "metadata": {
        "id": "XbY59bAjQsIV"
      }
    }
  ]
}